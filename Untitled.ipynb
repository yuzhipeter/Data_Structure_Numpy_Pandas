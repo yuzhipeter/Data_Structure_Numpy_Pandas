{
 "cells": [
  {
   "cell_type": "code",
   "execution_count": 1,
   "metadata": {},
   "outputs": [
    {
     "name": "stdout",
     "output_type": "stream",
     "text": [
      "0\n",
      "1\n",
      "2\n",
      "3\n",
      "4\n",
      "5\n",
      "6\n",
      "7\n",
      "8\n",
      "9\n"
     ]
    }
   ],
   "source": [
    "for _ in range(10):\n",
    "    print (_)"
   ]
  },
  {
   "cell_type": "code",
   "execution_count": 3,
   "metadata": {},
   "outputs": [
    {
     "name": "stdout",
     "output_type": "stream",
     "text": [
      "[['spam', 'eggs', 'lumberjack', 'knights', 'ni'], 'spam', 'eggs', 'lumberjack', 'knights', 'ni']\n",
      "[   ['spam', 'eggs', 'lumberjack', 'knights', 'ni'],\n",
      "    'spam',\n",
      "    'eggs',\n",
      "    'lumberjack',\n",
      "    'knights',\n",
      "    'ni']\n",
      "[['spam', 'eggs', 'lumberjack',\n",
      "  'knights', 'ni'],\n",
      " 'spam', 'eggs', 'lumberjack', 'knights',\n",
      " 'ni']\n",
      "('spam', ('eggs', ('lumberjack', ('knights', ('ni', ('dead', (...)))))))\n"
     ]
    },
    {
     "data": {
      "text/plain": [
       "('spam', ('eggs', ('lumberjack', ('knights', ('ni', ('dead', Ellipsis))))))"
      ]
     },
     "execution_count": 3,
     "metadata": {},
     "output_type": "execute_result"
    }
   ],
   "source": [
    "import pprint\n",
    "stuff = ['spam', 'eggs', 'lumberjack', 'knights', 'ni']\n",
    "stuff.insert(0, stuff[:])\n",
    "print (stuff)\n",
    "pp = pprint.PrettyPrinter(indent=4)\n",
    "pp.pprint(stuff)\n",
    "[   ['spam', 'eggs', 'lumberjack', 'knights', 'ni'],\n",
    "    'spam',\n",
    "    'eggs',\n",
    "    'lumberjack',\n",
    "    'knights',\n",
    "    'ni']\n",
    "pp = pprint.PrettyPrinter(width=41, compact=True)\n",
    "pp.pprint(stuff)\n",
    "[['spam', 'eggs', 'lumberjack',\n",
    "  'knights', 'ni'],\n",
    " 'spam', 'eggs', 'lumberjack', 'knights',\n",
    " 'ni']\n",
    "tup = ('spam', ('eggs', ('lumberjack', ('knights', ('ni', ('dead',\n",
    "('parrot', ('fresh fruit',))))))))\n",
    "pp = pprint.PrettyPrinter(depth=6)\n",
    "pp.pprint(tup)"
   ]
  },
  {
   "cell_type": "code",
   "execution_count": 5,
   "metadata": {},
   "outputs": [
    {
     "data": {
      "text/plain": [
       "tuple"
      ]
     },
     "execution_count": 5,
     "metadata": {},
     "output_type": "execute_result"
    }
   ],
   "source": [
    "e = (4,5,6)\n",
    "type(e)"
   ]
  },
  {
   "cell_type": "code",
   "execution_count": 6,
   "metadata": {},
   "outputs": [
    {
     "name": "stdout",
     "output_type": "stream",
     "text": [
      "[[0, 0, 0, 0, 0], [0, 0, 0, 0, 0]]\n"
     ]
    }
   ],
   "source": [
    "a = [[0] * 5 for x in range(2)]\n",
    "print(a)"
   ]
  },
  {
   "cell_type": "code",
   "execution_count": 7,
   "metadata": {
    "collapsed": true
   },
   "outputs": [],
   "source": [
    "import numpy as np"
   ]
  },
  {
   "cell_type": "code",
   "execution_count": 8,
   "metadata": {
    "collapsed": true
   },
   "outputs": [],
   "source": [
    "a = np.array([1,2])"
   ]
  },
  {
   "cell_type": "code",
   "execution_count": 9,
   "metadata": {},
   "outputs": [
    {
     "name": "stdout",
     "output_type": "stream",
     "text": [
      "[1 2]\n"
     ]
    }
   ],
   "source": [
    "print (a)"
   ]
  },
  {
   "cell_type": "code",
   "execution_count": 10,
   "metadata": {},
   "outputs": [
    {
     "name": "stdout",
     "output_type": "stream",
     "text": [
      "['AX', 'AY', 'AZ', 'BX', 'BY', 'BZ', 'CX', 'CY', 'CZ']\n"
     ]
    }
   ],
   "source": [
    "L=[m + n for m in 'ABC' for n in 'XYZ']\n",
    "print (L)"
   ]
  },
  {
   "cell_type": "code",
   "execution_count": 12,
   "metadata": {},
   "outputs": [
    {
     "name": "stdout",
     "output_type": "stream",
     "text": [
      "[0, 0, 0, 0, 0] [11, 12, 13, 14, 15, 16]\n"
     ]
    }
   ],
   "source": [
    "a = [0] * 5\n",
    "b = list(range(11,17))\n",
    "print (a,b)"
   ]
  },
  {
   "cell_type": "code",
   "execution_count": 13,
   "metadata": {},
   "outputs": [
    {
     "name": "stdout",
     "output_type": "stream",
     "text": [
      "[0, 0, 0, 0, 0, 11, 12, 13, 14, 15, 16]\n"
     ]
    }
   ],
   "source": [
    "print (a+b)"
   ]
  },
  {
   "cell_type": "code",
   "execution_count": 14,
   "metadata": {},
   "outputs": [
    {
     "name": "stdout",
     "output_type": "stream",
     "text": [
      "[11, 12, 13, 14, 15, 16, 0, 0, 0, 0, 0]\n"
     ]
    }
   ],
   "source": [
    "print (b+a)"
   ]
  },
  {
   "cell_type": "code",
   "execution_count": 15,
   "metadata": {},
   "outputs": [
    {
     "data": {
      "text/plain": [
       "[11, 12, 13, 14, 15, 16, 0, 0, 0, 0, 0]"
      ]
     },
     "execution_count": 15,
     "metadata": {},
     "output_type": "execute_result"
    }
   ],
   "source": [
    "a = b+a\n",
    "a"
   ]
  },
  {
   "cell_type": "code",
   "execution_count": 16,
   "metadata": {
    "collapsed": true
   },
   "outputs": [],
   "source": [
    "import numpy as np\n"
   ]
  },
  {
   "cell_type": "code",
   "execution_count": 17,
   "metadata": {},
   "outputs": [
    {
     "data": {
      "text/plain": [
       "array([[1, 2, 3]])"
      ]
     },
     "execution_count": 17,
     "metadata": {},
     "output_type": "execute_result"
    }
   ],
   "source": [
    "data = np.array([[1,2,3]])\n",
    "data"
   ]
  },
  {
   "cell_type": "code",
   "execution_count": 19,
   "metadata": {},
   "outputs": [
    {
     "data": {
      "text/plain": [
       "array([['a', 'b', 'c']], dtype='<U1')"
      ]
     },
     "execution_count": 19,
     "metadata": {},
     "output_type": "execute_result"
    }
   ],
   "source": [
    "string = np.array([['a','b','c']])\n",
    "string"
   ]
  },
  {
   "cell_type": "code",
   "execution_count": 86,
   "metadata": {
    "scrolled": true
   },
   "outputs": [
    {
     "data": {
      "text/html": [
       "<div>\n",
       "<style scoped>\n",
       "    .dataframe tbody tr th:only-of-type {\n",
       "        vertical-align: middle;\n",
       "    }\n",
       "\n",
       "    .dataframe tbody tr th {\n",
       "        vertical-align: top;\n",
       "    }\n",
       "\n",
       "    .dataframe thead th {\n",
       "        text-align: right;\n",
       "    }\n",
       "</style>\n",
       "<table border=\"1\" class=\"dataframe\">\n",
       "  <thead>\n",
       "    <tr style=\"text-align: right;\">\n",
       "      <th></th>\n",
       "      <th>Date</th>\n",
       "      <th>ProShares Name</th>\n",
       "      <th>Ticker</th>\n",
       "      <th>NAV</th>\n",
       "      <th>Prior NAV</th>\n",
       "      <th>NAV Change (%)</th>\n",
       "      <th>NAV Change ($)</th>\n",
       "      <th>Shares Outstanding (000)</th>\n",
       "      <th>Assets Under Management</th>\n",
       "    </tr>\n",
       "  </thead>\n",
       "  <tbody>\n",
       "    <tr>\n",
       "      <th>0</th>\n",
       "      <td>05/07/2020</td>\n",
       "      <td>ProShares Short S&amp;P500</td>\n",
       "      <td>SH</td>\n",
       "      <td>24.3868</td>\n",
       "      <td>24.6804</td>\n",
       "      <td>-1.18961</td>\n",
       "      <td>-0.2936</td>\n",
       "      <td>163130.83</td>\n",
       "      <td>3.978239e+09</td>\n",
       "    </tr>\n",
       "    <tr>\n",
       "      <th>1</th>\n",
       "      <td>05/06/2020</td>\n",
       "      <td>ProShares Short S&amp;P500</td>\n",
       "      <td>SH</td>\n",
       "      <td>24.6804</td>\n",
       "      <td>24.5130</td>\n",
       "      <td>0.68290</td>\n",
       "      <td>0.1674</td>\n",
       "      <td>161730.83</td>\n",
       "      <td>3.991581e+09</td>\n",
       "    </tr>\n",
       "    <tr>\n",
       "      <th>2</th>\n",
       "      <td>05/05/2020</td>\n",
       "      <td>ProShares Short S&amp;P500</td>\n",
       "      <td>SH</td>\n",
       "      <td>24.5130</td>\n",
       "      <td>24.7370</td>\n",
       "      <td>-0.90553</td>\n",
       "      <td>-0.2240</td>\n",
       "      <td>159405.83</td>\n",
       "      <td>3.907515e+09</td>\n",
       "    </tr>\n",
       "    <tr>\n",
       "      <th>3</th>\n",
       "      <td>05/04/2020</td>\n",
       "      <td>ProShares Short S&amp;P500</td>\n",
       "      <td>SH</td>\n",
       "      <td>24.7370</td>\n",
       "      <td>24.8417</td>\n",
       "      <td>-0.42147</td>\n",
       "      <td>-0.1047</td>\n",
       "      <td>159405.83</td>\n",
       "      <td>3.943222e+09</td>\n",
       "    </tr>\n",
       "    <tr>\n",
       "      <th>4</th>\n",
       "      <td>05/01/2020</td>\n",
       "      <td>ProShares Short S&amp;P500</td>\n",
       "      <td>SH</td>\n",
       "      <td>24.8417</td>\n",
       "      <td>24.1702</td>\n",
       "      <td>2.77821</td>\n",
       "      <td>0.6715</td>\n",
       "      <td>156130.83</td>\n",
       "      <td>3.878555e+09</td>\n",
       "    </tr>\n",
       "    <tr>\n",
       "      <th>5</th>\n",
       "      <td>04/30/2020</td>\n",
       "      <td>ProShares Short S&amp;P500</td>\n",
       "      <td>SH</td>\n",
       "      <td>24.1702</td>\n",
       "      <td>23.9480</td>\n",
       "      <td>0.92784</td>\n",
       "      <td>0.2222</td>\n",
       "      <td>155530.83</td>\n",
       "      <td>3.759211e+09</td>\n",
       "    </tr>\n",
       "    <tr>\n",
       "      <th>6</th>\n",
       "      <td>04/29/2020</td>\n",
       "      <td>ProShares Short S&amp;P500</td>\n",
       "      <td>SH</td>\n",
       "      <td>23.9480</td>\n",
       "      <td>24.6012</td>\n",
       "      <td>-2.65516</td>\n",
       "      <td>-0.6532</td>\n",
       "      <td>155530.83</td>\n",
       "      <td>3.724652e+09</td>\n",
       "    </tr>\n",
       "    <tr>\n",
       "      <th>7</th>\n",
       "      <td>04/28/2020</td>\n",
       "      <td>ProShares Short S&amp;P500</td>\n",
       "      <td>SH</td>\n",
       "      <td>24.6012</td>\n",
       "      <td>24.4746</td>\n",
       "      <td>0.51727</td>\n",
       "      <td>0.1266</td>\n",
       "      <td>156280.83</td>\n",
       "      <td>3.844696e+09</td>\n",
       "    </tr>\n",
       "    <tr>\n",
       "      <th>8</th>\n",
       "      <td>04/27/2020</td>\n",
       "      <td>ProShares Short S&amp;P500</td>\n",
       "      <td>SH</td>\n",
       "      <td>24.4746</td>\n",
       "      <td>24.8419</td>\n",
       "      <td>-1.47855</td>\n",
       "      <td>-0.3673</td>\n",
       "      <td>158505.83</td>\n",
       "      <td>3.879367e+09</td>\n",
       "    </tr>\n",
       "    <tr>\n",
       "      <th>9</th>\n",
       "      <td>04/24/2020</td>\n",
       "      <td>ProShares Short S&amp;P500</td>\n",
       "      <td>SH</td>\n",
       "      <td>24.8419</td>\n",
       "      <td>25.1946</td>\n",
       "      <td>-1.39990</td>\n",
       "      <td>-0.3527</td>\n",
       "      <td>159355.83</td>\n",
       "      <td>3.958701e+09</td>\n",
       "    </tr>\n",
       "  </tbody>\n",
       "</table>\n",
       "</div>"
      ],
      "text/plain": [
       "         Date          ProShares Name Ticker      NAV  Prior NAV  \\\n",
       "0  05/07/2020  ProShares Short S&P500     SH  24.3868    24.6804   \n",
       "1  05/06/2020  ProShares Short S&P500     SH  24.6804    24.5130   \n",
       "2  05/05/2020  ProShares Short S&P500     SH  24.5130    24.7370   \n",
       "3  05/04/2020  ProShares Short S&P500     SH  24.7370    24.8417   \n",
       "4  05/01/2020  ProShares Short S&P500     SH  24.8417    24.1702   \n",
       "5  04/30/2020  ProShares Short S&P500     SH  24.1702    23.9480   \n",
       "6  04/29/2020  ProShares Short S&P500     SH  23.9480    24.6012   \n",
       "7  04/28/2020  ProShares Short S&P500     SH  24.6012    24.4746   \n",
       "8  04/27/2020  ProShares Short S&P500     SH  24.4746    24.8419   \n",
       "9  04/24/2020  ProShares Short S&P500     SH  24.8419    25.1946   \n",
       "\n",
       "   NAV Change (%)  NAV Change ($)  Shares Outstanding (000)  \\\n",
       "0        -1.18961         -0.2936                 163130.83   \n",
       "1         0.68290          0.1674                 161730.83   \n",
       "2        -0.90553         -0.2240                 159405.83   \n",
       "3        -0.42147         -0.1047                 159405.83   \n",
       "4         2.77821          0.6715                 156130.83   \n",
       "5         0.92784          0.2222                 155530.83   \n",
       "6        -2.65516         -0.6532                 155530.83   \n",
       "7         0.51727          0.1266                 156280.83   \n",
       "8        -1.47855         -0.3673                 158505.83   \n",
       "9        -1.39990         -0.3527                 159355.83   \n",
       "\n",
       "   Assets Under Management  \n",
       "0             3.978239e+09  \n",
       "1             3.991581e+09  \n",
       "2             3.907515e+09  \n",
       "3             3.943222e+09  \n",
       "4             3.878555e+09  \n",
       "5             3.759211e+09  \n",
       "6             3.724652e+09  \n",
       "7             3.844696e+09  \n",
       "8             3.879367e+09  \n",
       "9             3.958701e+09  "
      ]
     },
     "execution_count": 86,
     "metadata": {},
     "output_type": "execute_result"
    }
   ],
   "source": [
    "import pandas as pd\n",
    "dateparse = lambda x: pd.datetime.strptime(x, '%m/%d/%y')\n",
    "#df = pd.read_csv('https://accounts.profunds.com/etfdata/ByFund/SH-historical_nav.csv', parse_dates=['Date'], date_parser=dateparse)\n",
    "df = pd.read_csv('https://accounts.profunds.com/etfdata/ByFund/SH-historical_nav.csv')\n",
    "df.head(10)"
   ]
  },
  {
   "cell_type": "code",
   "execution_count": 87,
   "metadata": {},
   "outputs": [
    {
     "name": "stdout",
     "output_type": "stream",
     "text": [
      "Date                         object\n",
      "ProShares Name               object\n",
      "Ticker                       object\n",
      "NAV                         float64\n",
      "Prior NAV                   float64\n",
      "NAV Change (%)              float64\n",
      "NAV Change ($)              float64\n",
      "Shares Outstanding (000)    float64\n",
      "Assets Under Management     float64\n",
      "dtype: object\n",
      "05/06/2020\n"
     ]
    },
    {
     "data": {
      "text/html": [
       "<div>\n",
       "<style scoped>\n",
       "    .dataframe tbody tr th:only-of-type {\n",
       "        vertical-align: middle;\n",
       "    }\n",
       "\n",
       "    .dataframe tbody tr th {\n",
       "        vertical-align: top;\n",
       "    }\n",
       "\n",
       "    .dataframe thead th {\n",
       "        text-align: right;\n",
       "    }\n",
       "</style>\n",
       "<table border=\"1\" class=\"dataframe\">\n",
       "  <thead>\n",
       "    <tr style=\"text-align: right;\">\n",
       "      <th></th>\n",
       "      <th>Date</th>\n",
       "      <th>ProShares Name</th>\n",
       "      <th>Ticker</th>\n",
       "      <th>NAV</th>\n",
       "      <th>Prior NAV</th>\n",
       "      <th>NAV Change (%)</th>\n",
       "      <th>NAV Change ($)</th>\n",
       "      <th>Shares Outstanding (000)</th>\n",
       "      <th>Assets Under Management</th>\n",
       "    </tr>\n",
       "  </thead>\n",
       "  <tbody>\n",
       "    <tr>\n",
       "      <th>0</th>\n",
       "      <td>05/07/2020</td>\n",
       "      <td>ProShares Short S&amp;P500</td>\n",
       "      <td>SH</td>\n",
       "      <td>24.3868</td>\n",
       "      <td>24.6804</td>\n",
       "      <td>-1.18961</td>\n",
       "      <td>-0.2936</td>\n",
       "      <td>163130.83</td>\n",
       "      <td>3.978239e+09</td>\n",
       "    </tr>\n",
       "    <tr>\n",
       "      <th>1</th>\n",
       "      <td>05/06/2020</td>\n",
       "      <td>ProShares Short S&amp;P500</td>\n",
       "      <td>SH</td>\n",
       "      <td>24.6804</td>\n",
       "      <td>24.5130</td>\n",
       "      <td>0.68290</td>\n",
       "      <td>0.1674</td>\n",
       "      <td>161730.83</td>\n",
       "      <td>3.991581e+09</td>\n",
       "    </tr>\n",
       "    <tr>\n",
       "      <th>2</th>\n",
       "      <td>05/05/2020</td>\n",
       "      <td>ProShares Short S&amp;P500</td>\n",
       "      <td>SH</td>\n",
       "      <td>24.5130</td>\n",
       "      <td>24.7370</td>\n",
       "      <td>-0.90553</td>\n",
       "      <td>-0.2240</td>\n",
       "      <td>159405.83</td>\n",
       "      <td>3.907515e+09</td>\n",
       "    </tr>\n",
       "    <tr>\n",
       "      <th>3</th>\n",
       "      <td>05/04/2020</td>\n",
       "      <td>ProShares Short S&amp;P500</td>\n",
       "      <td>SH</td>\n",
       "      <td>24.7370</td>\n",
       "      <td>24.8417</td>\n",
       "      <td>-0.42147</td>\n",
       "      <td>-0.1047</td>\n",
       "      <td>159405.83</td>\n",
       "      <td>3.943222e+09</td>\n",
       "    </tr>\n",
       "    <tr>\n",
       "      <th>4</th>\n",
       "      <td>05/01/2020</td>\n",
       "      <td>ProShares Short S&amp;P500</td>\n",
       "      <td>SH</td>\n",
       "      <td>24.8417</td>\n",
       "      <td>24.1702</td>\n",
       "      <td>2.77821</td>\n",
       "      <td>0.6715</td>\n",
       "      <td>156130.83</td>\n",
       "      <td>3.878555e+09</td>\n",
       "    </tr>\n",
       "  </tbody>\n",
       "</table>\n",
       "</div>"
      ],
      "text/plain": [
       "         Date          ProShares Name Ticker      NAV  Prior NAV  \\\n",
       "0  05/07/2020  ProShares Short S&P500     SH  24.3868    24.6804   \n",
       "1  05/06/2020  ProShares Short S&P500     SH  24.6804    24.5130   \n",
       "2  05/05/2020  ProShares Short S&P500     SH  24.5130    24.7370   \n",
       "3  05/04/2020  ProShares Short S&P500     SH  24.7370    24.8417   \n",
       "4  05/01/2020  ProShares Short S&P500     SH  24.8417    24.1702   \n",
       "\n",
       "   NAV Change (%)  NAV Change ($)  Shares Outstanding (000)  \\\n",
       "0        -1.18961         -0.2936                 163130.83   \n",
       "1         0.68290          0.1674                 161730.83   \n",
       "2        -0.90553         -0.2240                 159405.83   \n",
       "3        -0.42147         -0.1047                 159405.83   \n",
       "4         2.77821          0.6715                 156130.83   \n",
       "\n",
       "   Assets Under Management  \n",
       "0             3.978239e+09  \n",
       "1             3.991581e+09  \n",
       "2             3.907515e+09  \n",
       "3             3.943222e+09  \n",
       "4             3.878555e+09  "
      ]
     },
     "execution_count": 87,
     "metadata": {},
     "output_type": "execute_result"
    }
   ],
   "source": [
    "df.Date = df.Date.astype('str')\n",
    "print (df.dtypes)\n",
    "a=df.Date[1]\n",
    "print (a)\n",
    "df.head()"
   ]
  },
  {
   "cell_type": "code",
   "execution_count": 88,
   "metadata": {
    "scrolled": true
   },
   "outputs": [
    {
     "data": {
      "text/html": [
       "<div>\n",
       "<style scoped>\n",
       "    .dataframe tbody tr th:only-of-type {\n",
       "        vertical-align: middle;\n",
       "    }\n",
       "\n",
       "    .dataframe tbody tr th {\n",
       "        vertical-align: top;\n",
       "    }\n",
       "\n",
       "    .dataframe thead th {\n",
       "        text-align: right;\n",
       "    }\n",
       "</style>\n",
       "<table border=\"1\" class=\"dataframe\">\n",
       "  <thead>\n",
       "    <tr style=\"text-align: right;\">\n",
       "      <th></th>\n",
       "      <th>Date</th>\n",
       "      <th>ProShares Name</th>\n",
       "      <th>Ticker</th>\n",
       "      <th>NAV</th>\n",
       "      <th>Prior NAV</th>\n",
       "      <th>NAV Change (%)</th>\n",
       "      <th>NAV Change ($)</th>\n",
       "      <th>Shares Outstanding (000)</th>\n",
       "      <th>Assets Under Management</th>\n",
       "    </tr>\n",
       "  </thead>\n",
       "  <tbody>\n",
       "    <tr>\n",
       "      <th>0</th>\n",
       "      <td>2020-05-07</td>\n",
       "      <td>ProShares Short S&amp;P500</td>\n",
       "      <td>SH</td>\n",
       "      <td>24.3868</td>\n",
       "      <td>24.6804</td>\n",
       "      <td>-1.18961</td>\n",
       "      <td>-0.2936</td>\n",
       "      <td>163130.83</td>\n",
       "      <td>3.978239e+09</td>\n",
       "    </tr>\n",
       "    <tr>\n",
       "      <th>1</th>\n",
       "      <td>2020-05-06</td>\n",
       "      <td>ProShares Short S&amp;P500</td>\n",
       "      <td>SH</td>\n",
       "      <td>24.6804</td>\n",
       "      <td>24.5130</td>\n",
       "      <td>0.68290</td>\n",
       "      <td>0.1674</td>\n",
       "      <td>161730.83</td>\n",
       "      <td>3.991581e+09</td>\n",
       "    </tr>\n",
       "    <tr>\n",
       "      <th>2</th>\n",
       "      <td>2020-05-05</td>\n",
       "      <td>ProShares Short S&amp;P500</td>\n",
       "      <td>SH</td>\n",
       "      <td>24.5130</td>\n",
       "      <td>24.7370</td>\n",
       "      <td>-0.90553</td>\n",
       "      <td>-0.2240</td>\n",
       "      <td>159405.83</td>\n",
       "      <td>3.907515e+09</td>\n",
       "    </tr>\n",
       "    <tr>\n",
       "      <th>3</th>\n",
       "      <td>2020-05-04</td>\n",
       "      <td>ProShares Short S&amp;P500</td>\n",
       "      <td>SH</td>\n",
       "      <td>24.7370</td>\n",
       "      <td>24.8417</td>\n",
       "      <td>-0.42147</td>\n",
       "      <td>-0.1047</td>\n",
       "      <td>159405.83</td>\n",
       "      <td>3.943222e+09</td>\n",
       "    </tr>\n",
       "    <tr>\n",
       "      <th>4</th>\n",
       "      <td>2020-05-01</td>\n",
       "      <td>ProShares Short S&amp;P500</td>\n",
       "      <td>SH</td>\n",
       "      <td>24.8417</td>\n",
       "      <td>24.1702</td>\n",
       "      <td>2.77821</td>\n",
       "      <td>0.6715</td>\n",
       "      <td>156130.83</td>\n",
       "      <td>3.878555e+09</td>\n",
       "    </tr>\n",
       "    <tr>\n",
       "      <th>...</th>\n",
       "      <td>...</td>\n",
       "      <td>...</td>\n",
       "      <td>...</td>\n",
       "      <td>...</td>\n",
       "      <td>...</td>\n",
       "      <td>...</td>\n",
       "      <td>...</td>\n",
       "      <td>...</td>\n",
       "      <td>...</td>\n",
       "    </tr>\n",
       "    <tr>\n",
       "      <th>3495</th>\n",
       "      <td>2006-06-19</td>\n",
       "      <td>ProShares Short S&amp;P500</td>\n",
       "      <td>SH</td>\n",
       "      <td>140.0000</td>\n",
       "      <td>140.0000</td>\n",
       "      <td>0.00000</td>\n",
       "      <td>0.0000</td>\n",
       "      <td>375.71</td>\n",
       "      <td>5.259996e+07</td>\n",
       "    </tr>\n",
       "    <tr>\n",
       "      <th>3496</th>\n",
       "      <td>2006-06-16</td>\n",
       "      <td>ProShares Short S&amp;P500</td>\n",
       "      <td>SH</td>\n",
       "      <td>140.0000</td>\n",
       "      <td>140.0000</td>\n",
       "      <td>0.00000</td>\n",
       "      <td>0.0000</td>\n",
       "      <td>0.71</td>\n",
       "      <td>9.996000e+04</td>\n",
       "    </tr>\n",
       "    <tr>\n",
       "      <th>3497</th>\n",
       "      <td>2006-06-15</td>\n",
       "      <td>ProShares Short S&amp;P500</td>\n",
       "      <td>SH</td>\n",
       "      <td>140.0000</td>\n",
       "      <td>140.0000</td>\n",
       "      <td>0.00000</td>\n",
       "      <td>0.0000</td>\n",
       "      <td>0.71</td>\n",
       "      <td>9.996000e+04</td>\n",
       "    </tr>\n",
       "    <tr>\n",
       "      <th>3498</th>\n",
       "      <td>2006-06-14</td>\n",
       "      <td>ProShares Short S&amp;P500</td>\n",
       "      <td>SH</td>\n",
       "      <td>140.0000</td>\n",
       "      <td>140.0000</td>\n",
       "      <td>0.00000</td>\n",
       "      <td>0.0000</td>\n",
       "      <td>0.71</td>\n",
       "      <td>9.996000e+04</td>\n",
       "    </tr>\n",
       "    <tr>\n",
       "      <th>3499</th>\n",
       "      <td>2006-06-13</td>\n",
       "      <td>ProShares Short S&amp;P500</td>\n",
       "      <td>SH</td>\n",
       "      <td>140.0000</td>\n",
       "      <td>140.0000</td>\n",
       "      <td>0.00000</td>\n",
       "      <td>0.0000</td>\n",
       "      <td>0.71</td>\n",
       "      <td>9.996000e+04</td>\n",
       "    </tr>\n",
       "  </tbody>\n",
       "</table>\n",
       "<p>3500 rows × 9 columns</p>\n",
       "</div>"
      ],
      "text/plain": [
       "           Date          ProShares Name Ticker       NAV  Prior NAV  \\\n",
       "0    2020-05-07  ProShares Short S&P500     SH   24.3868    24.6804   \n",
       "1    2020-05-06  ProShares Short S&P500     SH   24.6804    24.5130   \n",
       "2    2020-05-05  ProShares Short S&P500     SH   24.5130    24.7370   \n",
       "3    2020-05-04  ProShares Short S&P500     SH   24.7370    24.8417   \n",
       "4    2020-05-01  ProShares Short S&P500     SH   24.8417    24.1702   \n",
       "...         ...                     ...    ...       ...        ...   \n",
       "3495 2006-06-19  ProShares Short S&P500     SH  140.0000   140.0000   \n",
       "3496 2006-06-16  ProShares Short S&P500     SH  140.0000   140.0000   \n",
       "3497 2006-06-15  ProShares Short S&P500     SH  140.0000   140.0000   \n",
       "3498 2006-06-14  ProShares Short S&P500     SH  140.0000   140.0000   \n",
       "3499 2006-06-13  ProShares Short S&P500     SH  140.0000   140.0000   \n",
       "\n",
       "      NAV Change (%)  NAV Change ($)  Shares Outstanding (000)  \\\n",
       "0           -1.18961         -0.2936                 163130.83   \n",
       "1            0.68290          0.1674                 161730.83   \n",
       "2           -0.90553         -0.2240                 159405.83   \n",
       "3           -0.42147         -0.1047                 159405.83   \n",
       "4            2.77821          0.6715                 156130.83   \n",
       "...              ...             ...                       ...   \n",
       "3495         0.00000          0.0000                    375.71   \n",
       "3496         0.00000          0.0000                      0.71   \n",
       "3497         0.00000          0.0000                      0.71   \n",
       "3498         0.00000          0.0000                      0.71   \n",
       "3499         0.00000          0.0000                      0.71   \n",
       "\n",
       "      Assets Under Management  \n",
       "0                3.978239e+09  \n",
       "1                3.991581e+09  \n",
       "2                3.907515e+09  \n",
       "3                3.943222e+09  \n",
       "4                3.878555e+09  \n",
       "...                       ...  \n",
       "3495             5.259996e+07  \n",
       "3496             9.996000e+04  \n",
       "3497             9.996000e+04  \n",
       "3498             9.996000e+04  \n",
       "3499             9.996000e+04  \n",
       "\n",
       "[3500 rows x 9 columns]"
      ]
     },
     "execution_count": 88,
     "metadata": {},
     "output_type": "execute_result"
    }
   ],
   "source": [
    "df['Date'] = pd.to_datetime(df.Date, format='%m/%d/%Y',errors='coerce')\n",
    "df"
   ]
  },
  {
   "cell_type": "code",
   "execution_count": 94,
   "metadata": {},
   "outputs": [
    {
     "name": "stdout",
     "output_type": "stream",
     "text": [
      "2020-05-06 00:00:00\n"
     ]
    }
   ],
   "source": [
    "a = df.Date[1]\n",
    "type(a)\n",
    "print (a)"
   ]
  },
  {
   "cell_type": "code",
   "execution_count": 108,
   "metadata": {},
   "outputs": [
    {
     "data": {
      "image/png": "[encoded data removed]",
      "text/plain": [
       "<matplotlib.figure.Figure at 0x248a96538d0>"
      ]
     },
     "metadata": {},
     "output_type": "display_data"
    }
   ],
   "source": [
    "import matplotlib.pyplot as plt\n",
    "plt.plot_date(x = df.Date[:500], y= df['Shares Outstanding (000)'][:500])\n",
    "fig = plt.gcf()\n",
    "fig.set_size_inches(18.5, 10.5)\n",
    "plt.show()"
   ]
  },
  {
   "cell_type": "code",
   "execution_count": 135,
   "metadata": {
    "scrolled": true
   },
   "outputs": [
    {
     "data": {
      "image/png": "[encoded data removed]",
      "text/plain": [
       "<matplotlib.figure.Figure at 0x248aad90dd8>"
      ]
     },
     "metadata": {},
     "output_type": "display_data"
    }
   ],
   "source": [
    "import matplotlib.pyplot as plt\n",
    "i = 2000\n",
    "j = 3000\n",
    "#plt.plot_date(x = df.Date[:500], y= df['Shares Outstanding (000)'][:500])\n",
    "fig, ax1 = plt.subplots()\n",
    "ax2 = ax1.twinx()\n",
    "ax1.plot_date(x = df.Date[i:j], y= df['Shares Outstanding (000)'][i:j], color = 'r')\n",
    "ax2.plot_date(x = df.Date[i:j], y= 1/(df['NAV'][i:j]))\n",
    "fig = plt.gcf()\n",
    "fig.set_size_inches(18.5, 10.5/2)\n",
    "plt.show()\n",
    "#fig.savefig('foo.jpg')\n",
    "#plt.close(fig)"
   ]
  },
  {
   "cell_type": "code",
   "execution_count": 114,
   "metadata": {},
   "outputs": [],
   "source": [
    "import matplotlib.pyplot as plt\n",
    "i = 2000\n",
    "j = 3000\n",
    "#plt.plot_date(x = df.Date[:500], y= df['Shares Outstanding (000)'][:500])\n",
    "fig, ax1 = plt.subplots()\n",
    "ax2 = ax1.twinx()\n",
    "ax1.plot_date(x = df.Date[i:j], y= df['Shares Outstanding (000)'][i:j], color = 'r')\n",
    "ax2.plot_date(x = df.Date[i:j], y= 1/(df['NAV'][i:j]))\n",
    "fig = plt.gcf()\n",
    "fig.set_size_inches(18.5, 10.5/2)\n",
    "plt.show()"
   ]
  },
  {
   "cell_type": "code",
   "execution_count": 136,
   "metadata": {
    "collapsed": true
   },
   "outputs": [],
   "source": [
    "import pandas as pd\n",
    "df = pd.read_csv('https://accounts.profunds.com/etfdata/ByFund/SH-historical_nav.csv', \n",
    "                 parse_dates=[0]) "
   ]
  },
  {
   "cell_type": "code",
   "execution_count": 138,
   "metadata": {},
   "outputs": [
    {
     "ename": "SyntaxError",
     "evalue": "invalid token (<ipython-input-138-e0d01e0f40dd>, line 3)",
     "output_type": "error",
     "traceback": [
      "\u001b[1;36m  File \u001b[1;32m\"<ipython-input-138-e0d01e0f40dd>\"\u001b[1;36m, line \u001b[1;32m3\u001b[0m\n\u001b[1;33m    ax1.plot_date(x = df.Date[2020-05-07:2020-05-01], y= df[2020-05-07:2020-05-01][i:j], color = 'r')\u001b[0m\n\u001b[1;37m                                    ^\u001b[0m\n\u001b[1;31mSyntaxError\u001b[0m\u001b[1;31m:\u001b[0m invalid token\n"
     ]
    }
   ],
   "source": [
    "fig, ax1 = plt.subplots()\n",
    "ax2 = ax1.twinx()\n",
    "ax1.plot_date(x = df.Date[2020-05-07:2020-05-01], y= df[2020-05-07:2020-05-01][i:j], color = 'r')\n",
    "ax2.plot_date(x = df.Date[2020-05-07:2020-05-01], y= 1/(df['NAV'][2020-05-07:2020-05-01]))\n",
    "fig = plt.gcf()\n",
    "fig.set_size_inches(18.5, 10.5/2)\n",
    "plt.show()"
   ]
  },
  {
   "cell_type": "code",
   "execution_count": 142,
   "metadata": {},
   "outputs": [
    {
     "ename": "SyntaxError",
     "evalue": "invalid token (<ipython-input-142-e78e36d6e540>, line 1)",
     "output_type": "error",
     "traceback": [
      "\u001b[1;36m  File \u001b[1;32m\"<ipython-input-142-e78e36d6e540>\"\u001b[1;36m, line \u001b[1;32m1\u001b[0m\n\u001b[1;33m    df.Date.loc[2020-05-01]\u001b[0m\n\u001b[1;37m                      ^\u001b[0m\n\u001b[1;31mSyntaxError\u001b[0m\u001b[1;31m:\u001b[0m invalid token\n"
     ]
    }
   ],
   "source": [
    "df.Date.loc[2020-05-01]"
   ]
  },
  {
   "cell_type": "code",
   "execution_count": 143,
   "metadata": {},
   "outputs": [
    {
     "data": {
      "text/html": [
       "<div>\n",
       "<style scoped>\n",
       "    .dataframe tbody tr th:only-of-type {\n",
       "        vertical-align: middle;\n",
       "    }\n",
       "\n",
       "    .dataframe tbody tr th {\n",
       "        vertical-align: top;\n",
       "    }\n",
       "\n",
       "    .dataframe thead th {\n",
       "        text-align: right;\n",
       "    }\n",
       "</style>\n",
       "<table border=\"1\" class=\"dataframe\">\n",
       "  <thead>\n",
       "    <tr style=\"text-align: right;\">\n",
       "      <th></th>\n",
       "      <th>A</th>\n",
       "      <th>B</th>\n",
       "      <th>C</th>\n",
       "      <th>D</th>\n",
       "      <th>E</th>\n",
       "    </tr>\n",
       "  </thead>\n",
       "  <tbody>\n",
       "    <tr>\n",
       "      <th>2013-01-01</th>\n",
       "      <td>0.444337</td>\n",
       "      <td>-0.983842</td>\n",
       "      <td>0.180516</td>\n",
       "      <td>1.509837</td>\n",
       "      <td>1.0</td>\n",
       "    </tr>\n",
       "    <tr>\n",
       "      <th>2013-01-02</th>\n",
       "      <td>1.062408</td>\n",
       "      <td>2.382276</td>\n",
       "      <td>-1.604402</td>\n",
       "      <td>-0.211185</td>\n",
       "      <td>1.0</td>\n",
       "    </tr>\n",
       "    <tr>\n",
       "      <th>2013-01-03</th>\n",
       "      <td>1.916954</td>\n",
       "      <td>-0.136495</td>\n",
       "      <td>0.118013</td>\n",
       "      <td>-1.982820</td>\n",
       "      <td>NaN</td>\n",
       "    </tr>\n",
       "    <tr>\n",
       "      <th>2013-01-04</th>\n",
       "      <td>0.148309</td>\n",
       "      <td>-0.811558</td>\n",
       "      <td>-0.682672</td>\n",
       "      <td>-0.889607</td>\n",
       "      <td>NaN</td>\n",
       "    </tr>\n",
       "  </tbody>\n",
       "</table>\n",
       "</div>"
      ],
      "text/plain": [
       "                   A         B         C         D    E\n",
       "2013-01-01  0.444337 -0.983842  0.180516  1.509837  1.0\n",
       "2013-01-02  1.062408  2.382276 -1.604402 -0.211185  1.0\n",
       "2013-01-03  1.916954 -0.136495  0.118013 -1.982820  NaN\n",
       "2013-01-04  0.148309 -0.811558 -0.682672 -0.889607  NaN"
      ]
     },
     "execution_count": 143,
     "metadata": {},
     "output_type": "execute_result"
    }
   ],
   "source": [
    "dates = pd.date_range('20130101', periods=6)\n",
    "df_1 = pd.DataFrame(np.random.randn(6, 4), index=dates, columns=list('ABCD'))\n",
    "df_2 = df_1.reindex(index=dates[0:4], columns=list(df_1.columns) + ['E'])\n",
    "df_2.loc[dates[0]:dates[1], 'E'] = 1\n",
    "df_2"
   ]
  },
  {
   "cell_type": "code",
   "execution_count": 148,
   "metadata": {},
   "outputs": [
    {
     "data": {
      "text/html": [
       "<div>\n",
       "<style scoped>\n",
       "    .dataframe tbody tr th:only-of-type {\n",
       "        vertical-align: middle;\n",
       "    }\n",
       "\n",
       "    .dataframe tbody tr th {\n",
       "        vertical-align: top;\n",
       "    }\n",
       "\n",
       "    .dataframe thead th {\n",
       "        text-align: right;\n",
       "    }\n",
       "</style>\n",
       "<table border=\"1\" class=\"dataframe\">\n",
       "  <thead>\n",
       "    <tr style=\"text-align: right;\">\n",
       "      <th></th>\n",
       "      <th>A</th>\n",
       "      <th>B</th>\n",
       "      <th>C</th>\n",
       "      <th>D</th>\n",
       "    </tr>\n",
       "  </thead>\n",
       "  <tbody>\n",
       "    <tr>\n",
       "      <th>2013-01-01</th>\n",
       "      <td>0.444337</td>\n",
       "      <td>-0.983842</td>\n",
       "      <td>0.180516</td>\n",
       "      <td>1.509837</td>\n",
       "    </tr>\n",
       "    <tr>\n",
       "      <th>2013-01-02</th>\n",
       "      <td>1.062408</td>\n",
       "      <td>2.382276</td>\n",
       "      <td>-1.604402</td>\n",
       "      <td>-0.211185</td>\n",
       "    </tr>\n",
       "    <tr>\n",
       "      <th>2013-01-03</th>\n",
       "      <td>1.916954</td>\n",
       "      <td>-0.136495</td>\n",
       "      <td>0.118013</td>\n",
       "      <td>-1.982820</td>\n",
       "    </tr>\n",
       "  </tbody>\n",
       "</table>\n",
       "</div>"
      ],
      "text/plain": [
       "                   A         B         C         D\n",
       "2013-01-01  0.444337 -0.983842  0.180516  1.509837\n",
       "2013-01-02  1.062408  2.382276 -1.604402 -0.211185\n",
       "2013-01-03  1.916954 -0.136495  0.118013 -1.982820"
      ]
     },
     "execution_count": 148,
     "metadata": {},
     "output_type": "execute_result"
    }
   ],
   "source": [
    "df_1.loc[\"2013-01-01\":\"2013-01-03\"]"
   ]
  },
  {
   "cell_type": "code",
   "execution_count": 151,
   "metadata": {},
   "outputs": [
    {
     "data": {
      "text/html": [
       "<div>\n",
       "<style scoped>\n",
       "    .dataframe tbody tr th:only-of-type {\n",
       "        vertical-align: middle;\n",
       "    }\n",
       "\n",
       "    .dataframe tbody tr th {\n",
       "        vertical-align: top;\n",
       "    }\n",
       "\n",
       "    .dataframe thead th {\n",
       "        text-align: right;\n",
       "    }\n",
       "</style>\n",
       "<table border=\"1\" class=\"dataframe\">\n",
       "  <thead>\n",
       "    <tr style=\"text-align: right;\">\n",
       "      <th></th>\n",
       "      <th>Date</th>\n",
       "      <th>ProShares Name</th>\n",
       "      <th>Ticker</th>\n",
       "      <th>NAV</th>\n",
       "      <th>Prior NAV</th>\n",
       "      <th>NAV Change (%)</th>\n",
       "      <th>NAV Change ($)</th>\n",
       "      <th>Shares Outstanding (000)</th>\n",
       "      <th>Assets Under Management</th>\n",
       "    </tr>\n",
       "  </thead>\n",
       "  <tbody>\n",
       "    <tr>\n",
       "      <th>0</th>\n",
       "      <td>2020-05-07</td>\n",
       "      <td>ProShares Short S&amp;P500</td>\n",
       "      <td>SH</td>\n",
       "      <td>24.3868</td>\n",
       "      <td>24.6804</td>\n",
       "      <td>-1.18961</td>\n",
       "      <td>-0.2936</td>\n",
       "      <td>163130.83</td>\n",
       "      <td>3.978239e+09</td>\n",
       "    </tr>\n",
       "    <tr>\n",
       "      <th>1</th>\n",
       "      <td>2020-05-06</td>\n",
       "      <td>ProShares Short S&amp;P500</td>\n",
       "      <td>SH</td>\n",
       "      <td>24.6804</td>\n",
       "      <td>24.5130</td>\n",
       "      <td>0.68290</td>\n",
       "      <td>0.1674</td>\n",
       "      <td>161730.83</td>\n",
       "      <td>3.991581e+09</td>\n",
       "    </tr>\n",
       "    <tr>\n",
       "      <th>2</th>\n",
       "      <td>2020-05-05</td>\n",
       "      <td>ProShares Short S&amp;P500</td>\n",
       "      <td>SH</td>\n",
       "      <td>24.5130</td>\n",
       "      <td>24.7370</td>\n",
       "      <td>-0.90553</td>\n",
       "      <td>-0.2240</td>\n",
       "      <td>159405.83</td>\n",
       "      <td>3.907515e+09</td>\n",
       "    </tr>\n",
       "    <tr>\n",
       "      <th>3</th>\n",
       "      <td>2020-05-04</td>\n",
       "      <td>ProShares Short S&amp;P500</td>\n",
       "      <td>SH</td>\n",
       "      <td>24.7370</td>\n",
       "      <td>24.8417</td>\n",
       "      <td>-0.42147</td>\n",
       "      <td>-0.1047</td>\n",
       "      <td>159405.83</td>\n",
       "      <td>3.943222e+09</td>\n",
       "    </tr>\n",
       "    <tr>\n",
       "      <th>4</th>\n",
       "      <td>2020-05-01</td>\n",
       "      <td>ProShares Short S&amp;P500</td>\n",
       "      <td>SH</td>\n",
       "      <td>24.8417</td>\n",
       "      <td>24.1702</td>\n",
       "      <td>2.77821</td>\n",
       "      <td>0.6715</td>\n",
       "      <td>156130.83</td>\n",
       "      <td>3.878555e+09</td>\n",
       "    </tr>\n",
       "  </tbody>\n",
       "</table>\n",
       "</div>"
      ],
      "text/plain": [
       "        Date          ProShares Name Ticker      NAV  Prior NAV  \\\n",
       "0 2020-05-07  ProShares Short S&P500     SH  24.3868    24.6804   \n",
       "1 2020-05-06  ProShares Short S&P500     SH  24.6804    24.5130   \n",
       "2 2020-05-05  ProShares Short S&P500     SH  24.5130    24.7370   \n",
       "3 2020-05-04  ProShares Short S&P500     SH  24.7370    24.8417   \n",
       "4 2020-05-01  ProShares Short S&P500     SH  24.8417    24.1702   \n",
       "\n",
       "   NAV Change (%)  NAV Change ($)  Shares Outstanding (000)  \\\n",
       "0        -1.18961         -0.2936                 163130.83   \n",
       "1         0.68290          0.1674                 161730.83   \n",
       "2        -0.90553         -0.2240                 159405.83   \n",
       "3        -0.42147         -0.1047                 159405.83   \n",
       "4         2.77821          0.6715                 156130.83   \n",
       "\n",
       "   Assets Under Management  \n",
       "0             3.978239e+09  \n",
       "1             3.991581e+09  \n",
       "2             3.907515e+09  \n",
       "3             3.943222e+09  \n",
       "4             3.878555e+09  "
      ]
     },
     "execution_count": 151,
     "metadata": {},
     "output_type": "execute_result"
    }
   ],
   "source": [
    "df.set_index('Date')\n",
    "df.head()"
   ]
  },
  {
   "cell_type": "code",
   "execution_count": 170,
   "metadata": {},
   "outputs": [],
   "source": [
    "import pandas as pd\n",
    "df = pd.read_csv('https://accounts.profunds.com/etfdata/ByFund/SH-historical_nav.csv', \n",
    "                 parse_dates=[0], index_col = 'Date')"
   ]
  },
  {
   "cell_type": "code",
   "execution_count": 171,
   "metadata": {
    "scrolled": true
   },
   "outputs": [
    {
     "data": {
      "text/plain": [
       "ProShares Name              ProShares Short S&P500\n",
       "Ticker                                          SH\n",
       "NAV                                        24.3868\n",
       "Prior NAV                                  24.6804\n",
       "NAV Change (%)                            -1.18961\n",
       "NAV Change ($)                             -0.2936\n",
       "Shares Outstanding (000)                    163131\n",
       "Assets Under Management                3.97824e+09\n",
       "Name: 2020-05-07 00:00:00, dtype: object"
      ]
     },
     "execution_count": 171,
     "metadata": {},
     "output_type": "execute_result"
    }
   ],
   "source": [
    "df.iloc[0]"
   ]
  },
  {
   "cell_type": "code",
   "execution_count": 182,
   "metadata": {},
   "outputs": [],
   "source": [
    "a = df.NAV['2020-05-07':'2020-05-05']"
   ]
  },
  {
   "cell_type": "code",
   "execution_count": 183,
   "metadata": {},
   "outputs": [
    {
     "data": {
      "text/plain": [
       "24.6804"
      ]
     },
     "execution_count": 183,
     "metadata": {},
     "output_type": "execute_result"
    }
   ],
   "source": [
    "a[1]"
   ]
  },
  {
   "cell_type": "code",
   "execution_count": 192,
   "metadata": {},
   "outputs": [
    {
     "ename": "IndexError",
     "evalue": "only integers, slices (`:`), ellipsis (`...`), numpy.newaxis (`None`) and integer or boolean arrays are valid indices",
     "output_type": "error",
     "traceback": [
      "\u001b[1;31m---------------------------------------------------------------------------\u001b[0m",
      "\u001b[1;31mIndexError\u001b[0m                                Traceback (most recent call last)",
      "\u001b[1;32m<ipython-input-192-fc98028484b9>\u001b[0m in \u001b[0;36m<module>\u001b[1;34m()\u001b[0m\n\u001b[1;32m----> 1\u001b[1;33m \u001b[0mdf\u001b[0m\u001b[1;33m.\u001b[0m\u001b[0mindex\u001b[0m\u001b[1;33m[\u001b[0m\u001b[1;34m'2020-05-07'\u001b[0m\u001b[1;33m]\u001b[0m\u001b[1;33m\u001b[0m\u001b[0m\n\u001b[0m",
      "\u001b[1;32mC:\\Users\\Peter\\Anaconda3\\lib\\site-packages\\pandas\\core\\indexes\\datetimes.py\u001b[0m in \u001b[0;36m__getitem__\u001b[1;34m(self, key)\u001b[0m\n\u001b[0;32m   1218\u001b[0m \u001b[1;33m\u001b[0m\u001b[0m\n\u001b[0;32m   1219\u001b[0m     \u001b[1;32mdef\u001b[0m \u001b[0m__getitem__\u001b[0m\u001b[1;33m(\u001b[0m\u001b[0mself\u001b[0m\u001b[1;33m,\u001b[0m \u001b[0mkey\u001b[0m\u001b[1;33m)\u001b[0m\u001b[1;33m:\u001b[0m\u001b[1;33m\u001b[0m\u001b[0m\n\u001b[1;32m-> 1220\u001b[1;33m         \u001b[0mresult\u001b[0m \u001b[1;33m=\u001b[0m \u001b[0mself\u001b[0m\u001b[1;33m.\u001b[0m\u001b[0m_data\u001b[0m\u001b[1;33m.\u001b[0m\u001b[0m__getitem__\u001b[0m\u001b[1;33m(\u001b[0m\u001b[0mkey\u001b[0m\u001b[1;33m)\u001b[0m\u001b[1;33m\u001b[0m\u001b[0m\n\u001b[0m\u001b[0;32m   1221\u001b[0m         \u001b[1;32mif\u001b[0m \u001b[0mis_scalar\u001b[0m\u001b[1;33m(\u001b[0m\u001b[0mresult\u001b[0m\u001b[1;33m)\u001b[0m\u001b[1;33m:\u001b[0m\u001b[1;33m\u001b[0m\u001b[0m\n\u001b[0;32m   1222\u001b[0m             \u001b[1;32mreturn\u001b[0m \u001b[0mresult\u001b[0m\u001b[1;33m\u001b[0m\u001b[0m\n",
      "\u001b[1;32mC:\\Users\\Peter\\Anaconda3\\lib\\site-packages\\pandas\\core\\arrays\\datetimelike.py\u001b[0m in \u001b[0;36m__getitem__\u001b[1;34m(self, key)\u001b[0m\n\u001b[0;32m    417\u001b[0m         \u001b[1;32mif\u001b[0m \u001b[0mlib\u001b[0m\u001b[1;33m.\u001b[0m\u001b[0mis_scalar\u001b[0m\u001b[1;33m(\u001b[0m\u001b[0mkey\u001b[0m\u001b[1;33m)\u001b[0m \u001b[1;32mand\u001b[0m \u001b[1;32mnot\u001b[0m \u001b[0mis_int\u001b[0m\u001b[1;33m:\u001b[0m\u001b[1;33m\u001b[0m\u001b[0m\n\u001b[0;32m    418\u001b[0m             raise IndexError(\n\u001b[1;32m--> 419\u001b[1;33m                 \u001b[1;34m\"only integers, slices (`:`), ellipsis (`...`), \"\u001b[0m\u001b[1;33m\u001b[0m\u001b[0m\n\u001b[0m\u001b[0;32m    420\u001b[0m                 \u001b[1;34m\"numpy.newaxis (`None`) and integer or boolean \"\u001b[0m\u001b[1;33m\u001b[0m\u001b[0m\n\u001b[0;32m    421\u001b[0m                 \u001b[1;34m\"arrays are valid indices\"\u001b[0m\u001b[1;33m\u001b[0m\u001b[0m\n",
      "\u001b[1;31mIndexError\u001b[0m: only integers, slices (`:`), ellipsis (`...`), numpy.newaxis (`None`) and integer or boolean arrays are valid indices"
     ]
    }
   ],
   "source": [
    "df.index['2020-05-07']"
   ]
  },
  {
   "cell_type": "code",
   "execution_count": 194,
   "metadata": {},
   "outputs": [
    {
     "ename": "TypeError",
     "evalue": "slice indices must be integers or None or have an __index__ method",
     "output_type": "error",
     "traceback": [
      "\u001b[1;31m---------------------------------------------------------------------------\u001b[0m",
      "\u001b[1;31mTypeError\u001b[0m                                 Traceback (most recent call last)",
      "\u001b[1;32m<ipython-input-194-3a4c9ffe8c2b>\u001b[0m in \u001b[0;36m<module>\u001b[1;34m()\u001b[0m\n\u001b[0;32m      1\u001b[0m \u001b[0mfig\u001b[0m\u001b[1;33m,\u001b[0m \u001b[0max1\u001b[0m \u001b[1;33m=\u001b[0m \u001b[0mplt\u001b[0m\u001b[1;33m.\u001b[0m\u001b[0msubplots\u001b[0m\u001b[1;33m(\u001b[0m\u001b[1;33m)\u001b[0m\u001b[1;33m\u001b[0m\u001b[0m\n\u001b[0;32m      2\u001b[0m \u001b[0max2\u001b[0m \u001b[1;33m=\u001b[0m \u001b[0max1\u001b[0m\u001b[1;33m.\u001b[0m\u001b[0mtwinx\u001b[0m\u001b[1;33m(\u001b[0m\u001b[1;33m)\u001b[0m\u001b[1;33m\u001b[0m\u001b[0m\n\u001b[1;32m----> 3\u001b[1;33m \u001b[0max1\u001b[0m\u001b[1;33m.\u001b[0m\u001b[0mplot_date\u001b[0m\u001b[1;33m(\u001b[0m\u001b[0mx\u001b[0m \u001b[1;33m=\u001b[0m \u001b[0mdf\u001b[0m\u001b[1;33m.\u001b[0m\u001b[0mindex\u001b[0m\u001b[1;33m.\u001b[0m\u001b[0mvalues\u001b[0m\u001b[1;33m[\u001b[0m\u001b[1;34m\"2020-05-07\"\u001b[0m\u001b[1;33m:\u001b[0m\u001b[1;34m\"2020-05-01\"\u001b[0m\u001b[1;33m]\u001b[0m\u001b[1;33m,\u001b[0m \u001b[0my\u001b[0m\u001b[1;33m=\u001b[0m \u001b[0mdf\u001b[0m\u001b[1;33m[\u001b[0m\u001b[1;34m'Shares Outstanding (000)'\u001b[0m\u001b[1;33m]\u001b[0m\u001b[1;33m[\u001b[0m\u001b[1;34m\"2020-05-07\"\u001b[0m\u001b[1;33m:\u001b[0m\u001b[1;34m\"2020-05-01\"\u001b[0m\u001b[1;33m]\u001b[0m\u001b[1;33m,\u001b[0m \u001b[0mcolor\u001b[0m \u001b[1;33m=\u001b[0m \u001b[1;34m'r'\u001b[0m\u001b[1;33m)\u001b[0m\u001b[1;33m\u001b[0m\u001b[0m\n\u001b[0m\u001b[0;32m      4\u001b[0m \u001b[0max2\u001b[0m\u001b[1;33m.\u001b[0m\u001b[0mplot_date\u001b[0m\u001b[1;33m(\u001b[0m\u001b[0mx\u001b[0m \u001b[1;33m=\u001b[0m \u001b[0mdf\u001b[0m\u001b[1;33m.\u001b[0m\u001b[0mindex\u001b[0m\u001b[1;33m.\u001b[0m\u001b[0mvalues\u001b[0m\u001b[1;33m[\u001b[0m\u001b[1;34m\"2020-05-07\"\u001b[0m\u001b[1;33m:\u001b[0m\u001b[1;34m\"2020-05-01\"\u001b[0m\u001b[1;33m]\u001b[0m\u001b[1;33m,\u001b[0m \u001b[0my\u001b[0m\u001b[1;33m=\u001b[0m \u001b[1;36m1\u001b[0m\u001b[1;33m/\u001b[0m\u001b[1;33m(\u001b[0m\u001b[0mdf\u001b[0m\u001b[1;33m[\u001b[0m\u001b[1;34m'NAV'\u001b[0m\u001b[1;33m]\u001b[0m\u001b[1;33m[\u001b[0m\u001b[1;34m\"2020-05-07\"\u001b[0m\u001b[1;33m:\u001b[0m\u001b[1;34m\"2020-05-01\"\u001b[0m\u001b[1;33m]\u001b[0m\u001b[1;33m)\u001b[0m\u001b[1;33m)\u001b[0m\u001b[1;33m\u001b[0m\u001b[0m\n\u001b[0;32m      5\u001b[0m \u001b[0mfig\u001b[0m \u001b[1;33m=\u001b[0m \u001b[0mplt\u001b[0m\u001b[1;33m.\u001b[0m\u001b[0mgcf\u001b[0m\u001b[1;33m(\u001b[0m\u001b[1;33m)\u001b[0m\u001b[1;33m\u001b[0m\u001b[0m\n",
      "\u001b[1;31mTypeError\u001b[0m: slice indices must be integers or None or have an __index__ method"
     ]
    }
   ],
   "source": [
    "fig, ax1 = plt.subplots()\n",
    "ax2 = ax1.twinx()\n",
    "ax1.plot_date(x = df.index.values[\"2020-05-07\":\"2020-05-01\"], y= df['Shares Outstanding (000)'][\"2020-05-07\":\"2020-05-01\"], color = 'r')\n",
    "ax2.plot_date(x = df.index.values[\"2020-05-07\":\"2020-05-01\"], y= 1/(df['NAV'][\"2020-05-07\":\"2020-05-01\"]))\n",
    "fig = plt.gcf()\n",
    "fig.set_size_inches(18.5, 10.5/2)\n",
    "plt.show()"
   ]
  },
  {
   "cell_type": "code",
   "execution_count": 162,
   "metadata": {},
   "outputs": [
    {
     "data": {
      "text/html": [
       "<div>\n",
       "<style scoped>\n",
       "    .dataframe tbody tr th:only-of-type {\n",
       "        vertical-align: middle;\n",
       "    }\n",
       "\n",
       "    .dataframe tbody tr th {\n",
       "        vertical-align: top;\n",
       "    }\n",
       "\n",
       "    .dataframe thead th {\n",
       "        text-align: right;\n",
       "    }\n",
       "</style>\n",
       "<table border=\"1\" class=\"dataframe\">\n",
       "  <thead>\n",
       "    <tr style=\"text-align: right;\">\n",
       "      <th></th>\n",
       "      <th>ProShares Name</th>\n",
       "      <th>Ticker</th>\n",
       "      <th>NAV</th>\n",
       "      <th>Prior NAV</th>\n",
       "      <th>NAV Change (%)</th>\n",
       "      <th>NAV Change ($)</th>\n",
       "      <th>Shares Outstanding (000)</th>\n",
       "      <th>Assets Under Management</th>\n",
       "    </tr>\n",
       "    <tr>\n",
       "      <th>Date</th>\n",
       "      <th></th>\n",
       "      <th></th>\n",
       "      <th></th>\n",
       "      <th></th>\n",
       "      <th></th>\n",
       "      <th></th>\n",
       "      <th></th>\n",
       "      <th></th>\n",
       "    </tr>\n",
       "  </thead>\n",
       "  <tbody>\n",
       "    <tr>\n",
       "      <th>2020-05-07</th>\n",
       "      <td>ProShares Short S&amp;P500</td>\n",
       "      <td>SH</td>\n",
       "      <td>24.3868</td>\n",
       "      <td>24.6804</td>\n",
       "      <td>-1.18961</td>\n",
       "      <td>-0.2936</td>\n",
       "      <td>163130.83</td>\n",
       "      <td>3.978239e+09</td>\n",
       "    </tr>\n",
       "    <tr>\n",
       "      <th>2020-05-06</th>\n",
       "      <td>ProShares Short S&amp;P500</td>\n",
       "      <td>SH</td>\n",
       "      <td>24.6804</td>\n",
       "      <td>24.5130</td>\n",
       "      <td>0.68290</td>\n",
       "      <td>0.1674</td>\n",
       "      <td>161730.83</td>\n",
       "      <td>3.991581e+09</td>\n",
       "    </tr>\n",
       "    <tr>\n",
       "      <th>2020-05-05</th>\n",
       "      <td>ProShares Short S&amp;P500</td>\n",
       "      <td>SH</td>\n",
       "      <td>24.5130</td>\n",
       "      <td>24.7370</td>\n",
       "      <td>-0.90553</td>\n",
       "      <td>-0.2240</td>\n",
       "      <td>159405.83</td>\n",
       "      <td>3.907515e+09</td>\n",
       "    </tr>\n",
       "    <tr>\n",
       "      <th>2020-05-04</th>\n",
       "      <td>ProShares Short S&amp;P500</td>\n",
       "      <td>SH</td>\n",
       "      <td>24.7370</td>\n",
       "      <td>24.8417</td>\n",
       "      <td>-0.42147</td>\n",
       "      <td>-0.1047</td>\n",
       "      <td>159405.83</td>\n",
       "      <td>3.943222e+09</td>\n",
       "    </tr>\n",
       "    <tr>\n",
       "      <th>2020-05-01</th>\n",
       "      <td>ProShares Short S&amp;P500</td>\n",
       "      <td>SH</td>\n",
       "      <td>24.8417</td>\n",
       "      <td>24.1702</td>\n",
       "      <td>2.77821</td>\n",
       "      <td>0.6715</td>\n",
       "      <td>156130.83</td>\n",
       "      <td>3.878555e+09</td>\n",
       "    </tr>\n",
       "    <tr>\n",
       "      <th>...</th>\n",
       "      <td>...</td>\n",
       "      <td>...</td>\n",
       "      <td>...</td>\n",
       "      <td>...</td>\n",
       "      <td>...</td>\n",
       "      <td>...</td>\n",
       "      <td>...</td>\n",
       "      <td>...</td>\n",
       "    </tr>\n",
       "    <tr>\n",
       "      <th>2006-06-19</th>\n",
       "      <td>ProShares Short S&amp;P500</td>\n",
       "      <td>SH</td>\n",
       "      <td>140.0000</td>\n",
       "      <td>140.0000</td>\n",
       "      <td>0.00000</td>\n",
       "      <td>0.0000</td>\n",
       "      <td>375.71</td>\n",
       "      <td>5.259996e+07</td>\n",
       "    </tr>\n",
       "    <tr>\n",
       "      <th>2006-06-16</th>\n",
       "      <td>ProShares Short S&amp;P500</td>\n",
       "      <td>SH</td>\n",
       "      <td>140.0000</td>\n",
       "      <td>140.0000</td>\n",
       "      <td>0.00000</td>\n",
       "      <td>0.0000</td>\n",
       "      <td>0.71</td>\n",
       "      <td>9.996000e+04</td>\n",
       "    </tr>\n",
       "    <tr>\n",
       "      <th>2006-06-15</th>\n",
       "      <td>ProShares Short S&amp;P500</td>\n",
       "      <td>SH</td>\n",
       "      <td>140.0000</td>\n",
       "      <td>140.0000</td>\n",
       "      <td>0.00000</td>\n",
       "      <td>0.0000</td>\n",
       "      <td>0.71</td>\n",
       "      <td>9.996000e+04</td>\n",
       "    </tr>\n",
       "    <tr>\n",
       "      <th>2006-06-14</th>\n",
       "      <td>ProShares Short S&amp;P500</td>\n",
       "      <td>SH</td>\n",
       "      <td>140.0000</td>\n",
       "      <td>140.0000</td>\n",
       "      <td>0.00000</td>\n",
       "      <td>0.0000</td>\n",
       "      <td>0.71</td>\n",
       "      <td>9.996000e+04</td>\n",
       "    </tr>\n",
       "    <tr>\n",
       "      <th>2006-06-13</th>\n",
       "      <td>ProShares Short S&amp;P500</td>\n",
       "      <td>SH</td>\n",
       "      <td>140.0000</td>\n",
       "      <td>140.0000</td>\n",
       "      <td>0.00000</td>\n",
       "      <td>0.0000</td>\n",
       "      <td>0.71</td>\n",
       "      <td>9.996000e+04</td>\n",
       "    </tr>\n",
       "  </tbody>\n",
       "</table>\n",
       "<p>3500 rows × 8 columns</p>\n",
       "</div>"
      ],
      "text/plain": [
       "                    ProShares Name Ticker       NAV  Prior NAV  \\\n",
       "Date                                                             \n",
       "2020-05-07  ProShares Short S&P500     SH   24.3868    24.6804   \n",
       "2020-05-06  ProShares Short S&P500     SH   24.6804    24.5130   \n",
       "2020-05-05  ProShares Short S&P500     SH   24.5130    24.7370   \n",
       "2020-05-04  ProShares Short S&P500     SH   24.7370    24.8417   \n",
       "2020-05-01  ProShares Short S&P500     SH   24.8417    24.1702   \n",
       "...                            ...    ...       ...        ...   \n",
       "2006-06-19  ProShares Short S&P500     SH  140.0000   140.0000   \n",
       "2006-06-16  ProShares Short S&P500     SH  140.0000   140.0000   \n",
       "2006-06-15  ProShares Short S&P500     SH  140.0000   140.0000   \n",
       "2006-06-14  ProShares Short S&P500     SH  140.0000   140.0000   \n",
       "2006-06-13  ProShares Short S&P500     SH  140.0000   140.0000   \n",
       "\n",
       "            NAV Change (%)  NAV Change ($)  Shares Outstanding (000)  \\\n",
       "Date                                                                   \n",
       "2020-05-07        -1.18961         -0.2936                 163130.83   \n",
       "2020-05-06         0.68290          0.1674                 161730.83   \n",
       "2020-05-05        -0.90553         -0.2240                 159405.83   \n",
       "2020-05-04        -0.42147         -0.1047                 159405.83   \n",
       "2020-05-01         2.77821          0.6715                 156130.83   \n",
       "...                    ...             ...                       ...   \n",
       "2006-06-19         0.00000          0.0000                    375.71   \n",
       "2006-06-16         0.00000          0.0000                      0.71   \n",
       "2006-06-15         0.00000          0.0000                      0.71   \n",
       "2006-06-14         0.00000          0.0000                      0.71   \n",
       "2006-06-13         0.00000          0.0000                      0.71   \n",
       "\n",
       "            Assets Under Management  \n",
       "Date                                 \n",
       "2020-05-07             3.978239e+09  \n",
       "2020-05-06             3.991581e+09  \n",
       "2020-05-05             3.907515e+09  \n",
       "2020-05-04             3.943222e+09  \n",
       "2020-05-01             3.878555e+09  \n",
       "...                             ...  \n",
       "2006-06-19             5.259996e+07  \n",
       "2006-06-16             9.996000e+04  \n",
       "2006-06-15             9.996000e+04  \n",
       "2006-06-14             9.996000e+04  \n",
       "2006-06-13             9.996000e+04  \n",
       "\n",
       "[3500 rows x 8 columns]"
      ]
     },
     "execution_count": 162,
     "metadata": {},
     "output_type": "execute_result"
    }
   ],
   "source": [
    "df.set_index('Date')"
   ]
  },
  {
   "cell_type": "code",
   "execution_count": 199,
   "metadata": {},
   "outputs": [
    {
     "ename": "AttributeError",
     "evalue": "'DatetimeIndex' object has no attribute 'loc'",
     "output_type": "error",
     "traceback": [
      "\u001b[1;31m---------------------------------------------------------------------------\u001b[0m",
      "\u001b[1;31mAttributeError\u001b[0m                            Traceback (most recent call last)",
      "\u001b[1;32m<ipython-input-199-1e7c7ae9d4c6>\u001b[0m in \u001b[0;36m<module>\u001b[1;34m()\u001b[0m\n\u001b[1;32m----> 1\u001b[1;33m \u001b[0mdf\u001b[0m\u001b[1;33m.\u001b[0m\u001b[0mindex\u001b[0m\u001b[1;33m.\u001b[0m\u001b[0mloc\u001b[0m\u001b[1;33m[\u001b[0m\u001b[1;34m\"2020-05-06\"\u001b[0m\u001b[1;33m]\u001b[0m\u001b[1;33m\u001b[0m\u001b[0m\n\u001b[0m",
      "\u001b[1;31mAttributeError\u001b[0m: 'DatetimeIndex' object has no attribute 'loc'"
     ]
    }
   ],
   "source": [
    "df.index.loc[\"2020-05-06\"]"
   ]
  },
  {
   "cell_type": "code",
   "execution_count": null,
   "metadata": {
    "collapsed": true
   },
   "outputs": [],
   "source": [
    "b = df.index"
   ]
  },
  {
   "cell_type": "code",
   "execution_count": 196,
   "metadata": {},
   "outputs": [
    {
     "data": {
      "image/png": "[encoded data removed]",
      "text/plain": [
       "<matplotlib.figure.Figure at 0x248ab21e4e0>"
      ]
     },
     "metadata": {},
     "output_type": "display_data"
    }
   ],
   "source": [
    "fig, ax1 = plt.subplots()\n",
    "ax2 = ax1.twinx()\n",
    "ax1.plot_date(x = df.index[1:5], y= df['Shares Outstanding (000)'][1:5], color = 'r')\n",
    "ax2.plot_date(x = df.index[1:5], y= 1/(df['NAV'][1:5]))\n",
    "fig = plt.gcf()\n",
    "fig.set_size_inches(18.5, 10.5/2)\n",
    "plt.show()"
   ]
  },
  {
   "cell_type": "code",
   "execution_count": 202,
   "metadata": {},
   "outputs": [
    {
     "data": {
      "text/html": [
       "<div>\n",
       "<style scoped>\n",
       "    .dataframe tbody tr th:only-of-type {\n",
       "        vertical-align: middle;\n",
       "    }\n",
       "\n",
       "    .dataframe tbody tr th {\n",
       "        vertical-align: top;\n",
       "    }\n",
       "\n",
       "    .dataframe thead th {\n",
       "        text-align: right;\n",
       "    }\n",
       "</style>\n",
       "<table border=\"1\" class=\"dataframe\">\n",
       "  <thead>\n",
       "    <tr style=\"text-align: right;\">\n",
       "      <th></th>\n",
       "      <th>Date</th>\n",
       "      <th>ProShares Name</th>\n",
       "      <th>Ticker</th>\n",
       "      <th>NAV</th>\n",
       "      <th>Prior NAV</th>\n",
       "      <th>NAV Change (%)</th>\n",
       "      <th>NAV Change ($)</th>\n",
       "      <th>Shares Outstanding (000)</th>\n",
       "      <th>Assets Under Management</th>\n",
       "    </tr>\n",
       "  </thead>\n",
       "  <tbody>\n",
       "    <tr>\n",
       "      <th>0</th>\n",
       "      <td>2020-05-08</td>\n",
       "      <td>ProShares Short S&amp;P500</td>\n",
       "      <td>SH</td>\n",
       "      <td>23.9723</td>\n",
       "      <td>24.3868</td>\n",
       "      <td>-1.69969</td>\n",
       "      <td>-0.4145</td>\n",
       "      <td>162905.83</td>\n",
       "      <td>3.905227e+09</td>\n",
       "    </tr>\n",
       "    <tr>\n",
       "      <th>1</th>\n",
       "      <td>2020-05-07</td>\n",
       "      <td>ProShares Short S&amp;P500</td>\n",
       "      <td>SH</td>\n",
       "      <td>24.3868</td>\n",
       "      <td>24.6804</td>\n",
       "      <td>-1.18961</td>\n",
       "      <td>-0.2936</td>\n",
       "      <td>163130.83</td>\n",
       "      <td>3.978239e+09</td>\n",
       "    </tr>\n",
       "    <tr>\n",
       "      <th>2</th>\n",
       "      <td>2020-05-06</td>\n",
       "      <td>ProShares Short S&amp;P500</td>\n",
       "      <td>SH</td>\n",
       "      <td>24.6804</td>\n",
       "      <td>24.5130</td>\n",
       "      <td>0.68290</td>\n",
       "      <td>0.1674</td>\n",
       "      <td>161730.83</td>\n",
       "      <td>3.991581e+09</td>\n",
       "    </tr>\n",
       "    <tr>\n",
       "      <th>3</th>\n",
       "      <td>2020-05-05</td>\n",
       "      <td>ProShares Short S&amp;P500</td>\n",
       "      <td>SH</td>\n",
       "      <td>24.5130</td>\n",
       "      <td>24.7370</td>\n",
       "      <td>-0.90553</td>\n",
       "      <td>-0.2240</td>\n",
       "      <td>159405.83</td>\n",
       "      <td>3.907515e+09</td>\n",
       "    </tr>\n",
       "    <tr>\n",
       "      <th>4</th>\n",
       "      <td>2020-05-04</td>\n",
       "      <td>ProShares Short S&amp;P500</td>\n",
       "      <td>SH</td>\n",
       "      <td>24.7370</td>\n",
       "      <td>24.8417</td>\n",
       "      <td>-0.42147</td>\n",
       "      <td>-0.1047</td>\n",
       "      <td>159405.83</td>\n",
       "      <td>3.943222e+09</td>\n",
       "    </tr>\n",
       "  </tbody>\n",
       "</table>\n",
       "</div>"
      ],
      "text/plain": [
       "        Date          ProShares Name Ticker      NAV  Prior NAV  \\\n",
       "0 2020-05-08  ProShares Short S&P500     SH  23.9723    24.3868   \n",
       "1 2020-05-07  ProShares Short S&P500     SH  24.3868    24.6804   \n",
       "2 2020-05-06  ProShares Short S&P500     SH  24.6804    24.5130   \n",
       "3 2020-05-05  ProShares Short S&P500     SH  24.5130    24.7370   \n",
       "4 2020-05-04  ProShares Short S&P500     SH  24.7370    24.8417   \n",
       "\n",
       "   NAV Change (%)  NAV Change ($)  Shares Outstanding (000)  \\\n",
       "0        -1.69969         -0.4145                 162905.83   \n",
       "1        -1.18961         -0.2936                 163130.83   \n",
       "2         0.68290          0.1674                 161730.83   \n",
       "3        -0.90553         -0.2240                 159405.83   \n",
       "4        -0.42147         -0.1047                 159405.83   \n",
       "\n",
       "   Assets Under Management  \n",
       "0             3.905227e+09  \n",
       "1             3.978239e+09  \n",
       "2             3.991581e+09  \n",
       "3             3.907515e+09  \n",
       "4             3.943222e+09  "
      ]
     },
     "execution_count": 202,
     "metadata": {},
     "output_type": "execute_result"
    }
   ],
   "source": [
    "import pandas as pd\n",
    "df = pd.read_csv('https://accounts.profunds.com/etfdata/ByFund/SH-historical_nav.csv', \n",
    "                 parse_dates=[0])\n",
    "df.head()"
   ]
  },
  {
   "cell_type": "code",
   "execution_count": 211,
   "metadata": {},
   "outputs": [
    {
     "name": "stdout",
     "output_type": "stream",
     "text": [
      "5 258\n"
     ]
    }
   ],
   "source": [
    "i = (df.index[df.Date == '2020-05-01'])[0]\n",
    "j = (df.index[df.Date == '2019-05-01'])[0]\n",
    "print (i,j)"
   ]
  },
  {
   "cell_type": "code",
   "execution_count": 224,
   "metadata": {},
   "outputs": [
    {
     "data": {
      "image/png": "[encoded data removed]",
      "text/plain": [
       "<matplotlib.figure.Figure at 0x248aa8f0278>"
      ]
     },
     "metadata": {},
     "output_type": "display_data"
    }
   ],
   "source": [
    "fig, ax1 = plt.subplots()\n",
    "ax2 = ax1.twinx()\n",
    "ax1.plot_date(x = df.Date[i:j], y= df['Shares Outstanding (000)'][i:j], color = 'r', label = 'Share Outstanding (000)')\n",
    "ax2.plot_date(x = df.Date[i:j], y= 1/(df['NAV'][i:j]), label = '1/NAV')\n",
    "ax1.set_xlabel('Date')\n",
    "ax1.set_ylabel('Shares Outstanding (000)')\n",
    "ax2.set_ylabel('1/NAV')\n",
    "ax1.legend(loc = 0)\n",
    "ax2.legend(loc = 0)\n",
    "fig = plt.gcf()\n",
    "fig.set_size_inches(18.5, 10.5/2)\n",
    "plt.show()"
   ]
  },
  {
   "cell_type": "code",
   "execution_count": 226,
   "metadata": {},
   "outputs": [
    {
     "data": {
      "text/plain": [
       "{'a': 1, 'b': 2}"
      ]
     },
     "execution_count": 226,
     "metadata": {},
     "output_type": "execute_result"
    }
   ],
   "source": [
    "dict= {\"a\": 1,\"b\": 2}\n",
    "dict"
   ]
  },
  {
   "cell_type": "code",
   "execution_count": 227,
   "metadata": {},
   "outputs": [
    {
     "data": {
      "text/plain": [
       "3"
      ]
     },
     "execution_count": 227,
     "metadata": {},
     "output_type": "execute_result"
    }
   ],
   "source": [
    "sum(dict.values())"
   ]
  },
  {
   "cell_type": "code",
   "execution_count": null,
   "metadata": {
    "collapsed": true
   },
   "outputs": [],
   "source": []
  }
 ],
 "metadata": {
  "kernelspec": {
   "display_name": "Python 3",
   "language": "python",
   "name": "python3"
  },
  "language_info": {
   "codemirror_mode": {
    "name": "ipython",
    "version": 3
   },
   "file_extension": ".py",
   "mimetype": "text/x-python",
   "name": "python",
   "nbconvert_exporter": "python",
   "pygments_lexer": "ipython3",
   "version": "3.6.1"
  }
 },
 "nbformat": 4,
 "nbformat_minor": 2
}
